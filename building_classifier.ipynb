{
  "nbformat": 4,
  "nbformat_minor": 0,
  "metadata": {
    "colab": {
      "name": "building_classifier.ipynb",
      "provenance": [],
      "collapsed_sections": [],
      "authorship_tag": "ABX9TyNZbRp7Wk9dfYKm3EsEbEEQ",
      "include_colab_link": true
    },
    "kernelspec": {
      "name": "python3",
      "display_name": "Python 3"
    },
    "accelerator": "GPU"
  },
  "cells": [
    {
      "cell_type": "markdown",
      "metadata": {
        "id": "view-in-github",
        "colab_type": "text"
      },
      "source": [
        "<a href=\"https://colab.research.google.com/github/amirbavand/fastbook/blob/master/building_classifier.ipynb\" target=\"_parent\"><img src=\"https://colab.research.google.com/assets/colab-badge.svg\" alt=\"Open In Colab\"/></a>"
      ]
    },
    {
      "cell_type": "code",
      "metadata": {
        "id": "yNLEP74bvlLU"
      },
      "source": [
        "#hide\n",
        "!pip install -Uqq fastbook\n",
        "import fastbook\n",
        "fastbook.setup_book()\n"
      ],
      "execution_count": 10,
      "outputs": []
    },
    {
      "cell_type": "code",
      "metadata": {
        "id": "C7DIKeNEykmN"
      },
      "source": [
        "#hide\n",
        "from fastbook import *\n",
        "from fastai.vision.widgets import *"
      ],
      "execution_count": 11,
      "outputs": []
    },
    {
      "cell_type": "code",
      "metadata": {
        "id": "pzvrjhIeQozo",
        "outputId": "a237956a-991b-4e2a-c296-946cf7c22f1e",
        "colab": {
          "base_uri": "https://localhost:8080/"
        }
      },
      "source": [
        "print('this is a simple location classifer')"
      ],
      "execution_count": 12,
      "outputs": [
        {
          "output_type": "stream",
          "text": [
            "this is a simple location classifer\n"
          ],
          "name": "stdout"
        }
      ]
    },
    {
      "cell_type": "code",
      "metadata": {
        "id": "7daiAzuWStIk"
      },
      "source": [
        "subscription_key = \"key\" # hear i should put subscription key for bing api of microsoft azure\n",
        "search_url = \"https://api.bing.microsoft.com/v7.0/images/search\"\n",
        "search_term1= \"house in canada\"\n",
        "search_term2=\"house image in iran\"\n",
        "search_term3='house image in china'\n",
        "\n",
        "headers = {\"Ocp-Apim-Subscription-Key\" : subscription_key}\n",
        "params  = {\"q\": search_term1, \"license\": \"public\", \"imageType\": \"photo\", \"count\": 200}\n",
        "\n",
        "response = requests.get(search_url, headers=headers, params=params)\n",
        "response.raise_for_status()\n",
        "search_results = response.json()\n",
        "canada_house = [img[\"thumbnailUrl\"] for img in search_results[\"value\"][:200]]\n",
        "params  = {\"q\": search_term2, \"license\": \"public\", \"imageType\": \"photo\", \"count\": 200}\n",
        "response = requests.get(search_url, headers=headers, params=params)\n",
        "response.raise_for_status()\n",
        "search_results = response.json()\n",
        "iran_house= [img[\"thumbnailUrl\"] for img in search_results[\"value\"][:200]]\n",
        "\n",
        "\n",
        "params  = {\"q\": search_term3, \"license\": \"public\", \"imageType\": \"photo\", \"count\": 200}\n",
        "response = requests.get(search_url, headers=headers, params=params)\n",
        "response.raise_for_status()\n",
        "search_results = response.json()\n",
        "china_house= [img[\"thumbnailUrl\"] for img in search_results[\"value\"][:200]]"
      ],
      "execution_count": null,
      "outputs": []
    },
    {
      "cell_type": "code",
      "metadata": {
        "id": "ETMjHiTlafEy"
      },
      "source": [
        ""
      ],
      "execution_count": null,
      "outputs": []
    },
    {
      "cell_type": "code",
      "metadata": {
        "id": "Wiedd6zxU4go"
      },
      "source": [
        "house_location = 'canada','iran','china'\n",
        "path = Path('/content/gdrive/My Drive/projects/fastbook/houses')\n",
        "path_string=('/content/gdrive/My Drive/projects/fastbook/houses/')\n"
      ],
      "execution_count": 14,
      "outputs": []
    },
    {
      "cell_type": "markdown",
      "metadata": {
        "id": "1CII1HURVT-K"
      },
      "source": [
        "In this follosing cell, we download the dataset and save it to use our training and validation sets."
      ]
    },
    {
      "cell_type": "code",
      "metadata": {
        "id": "WxheHPznVbkm"
      },
      "source": [
        "if not path.exists() :\n",
        "\n",
        "\n",
        "\n",
        "  path.mkdir()\n",
        "  for o in house_location:\n",
        "    print(\"hi\")\n",
        "    dest = (path/o)\n",
        "    dest.mkdir(exist_ok=True)\n",
        "    if(o=='canada'):\n",
        "      results=canada_house\n",
        "    elif(o=='iran'):\n",
        "      results=iran_house\n",
        "    elif(o=='china'):\n",
        "      results=china_house\n",
        "\n",
        "    i=0\n",
        "    for url in results:\n",
        "\n",
        "      path_image=path_string+o+'/'+o+str(i)+'.jpg'\n",
        "      i+=1\n",
        "      download_url(url,path_image)"
      ],
      "execution_count": null,
      "outputs": []
    },
    {
      "cell_type": "code",
      "metadata": {
        "id": "Dr5329TkXG6K"
      },
      "source": [
        "import os\n",
        "import glob\n",
        "\n",
        "#files = glob.glob('/content/houses/canada/*')\n",
        "#for f in files:\n",
        "#    os.remove(f)\n"
      ],
      "execution_count": 6,
      "outputs": []
    },
    {
      "cell_type": "markdown",
      "metadata": {
        "id": "_Qh8FgeRatu4"
      },
      "source": [
        "in the bellow cell, we discard the corrupt links"
      ]
    },
    {
      "cell_type": "code",
      "metadata": {
        "id": "LtL3ay3vaf6j",
        "outputId": "6c0fd50e-c33a-497d-c35d-1aa7cd0ffcfe",
        "colab": {
          "base_uri": "https://localhost:8080/",
          "height": 34
        }
      },
      "source": [
        "fns = get_image_files(path)\n",
        "print(len(fns))\n",
        "failed = verify_images(fns)\n",
        "failed\n",
        "failed.map(Path.unlink);"
      ],
      "execution_count": 15,
      "outputs": [
        {
          "output_type": "stream",
          "text": [
            "450\n"
          ],
          "name": "stdout"
        },
        {
          "output_type": "display_data",
          "data": {
            "text/html": [
              ""
            ],
            "text/plain": [
              "<IPython.core.display.HTML object>"
            ]
          },
          "metadata": {
            "tags": []
          }
        }
      ]
    },
    {
      "cell_type": "code",
      "metadata": {
        "id": "o980p5kRbENo"
      },
      "source": [
        "houses = DataBlock(\n",
        "    blocks=(ImageBlock, CategoryBlock), \n",
        "    get_items=get_image_files, \n",
        "    splitter=RandomSplitter(valid_pct=0.2, seed=42),\n",
        "    get_y=parent_label,\n",
        "    item_tfms=Resize(128))"
      ],
      "execution_count": 16,
      "outputs": []
    },
    {
      "cell_type": "code",
      "metadata": {
        "id": "IXMtyvnhbUFV"
      },
      "source": [
        "dls = houses.dataloaders(path)\n",
        "#dls.valid.show_batch(max_n=2, nrows=)"
      ],
      "execution_count": 31,
      "outputs": []
    },
    {
      "cell_type": "code",
      "metadata": {
        "id": "mKMGuGA_dXnp",
        "outputId": "6cde4418-83d4-4b72-eed5-6aceed8b778c",
        "colab": {
          "base_uri": "https://localhost:8080/",
          "height": 178
        }
      },
      "source": [
        "doc(aug_transforms)"
      ],
      "execution_count": null,
      "outputs": [
        {
          "output_type": "display_data",
          "data": {
            "text/html": [
              "<h4 id=\"aug_transforms\" class=\"doc_header\"><code>aug_transforms</code><a href=\"https://github.com/fastai/fastai/tree/master/fastai/vision/augment.py#L951\" class=\"source_link\" style=\"float:right\">[source]</a></h4><blockquote><p><code>aug_transforms</code>(<strong><code>mult</code></strong>=<em><code>1.0</code></em>, <strong><code>do_flip</code></strong>=<em><code>True</code></em>, <strong><code>flip_vert</code></strong>=<em><code>False</code></em>, <strong><code>max_rotate</code></strong>=<em><code>10.0</code></em>, <strong><code>min_zoom</code></strong>=<em><code>1.0</code></em>, <strong><code>max_zoom</code></strong>=<em><code>1.1</code></em>, <strong><code>max_lighting</code></strong>=<em><code>0.2</code></em>, <strong><code>max_warp</code></strong>=<em><code>0.2</code></em>, <strong><code>p_affine</code></strong>=<em><code>0.75</code></em>, <strong><code>p_lighting</code></strong>=<em><code>0.75</code></em>, <strong><code>xtra_tfms</code></strong>=<em><code>None</code></em>, <strong><code>size</code></strong>=<em><code>None</code></em>, <strong><code>mode</code></strong>=<em><code>'bilinear'</code></em>, <strong><code>pad_mode</code></strong>=<em><code>'reflection'</code></em>, <strong><code>align_corners</code></strong>=<em><code>True</code></em>, <strong><code>batch</code></strong>=<em><code>False</code></em>, <strong><code>min_scale</code></strong>=<em><code>1.0</code></em>)</p>\n",
              "</blockquote>\n",
              "<p>Utility func to easily create a list of flip, rotate, zoom, warp, lighting transforms.</p>\n",
              "<p><a href=\"https://docs.fast.ai/vision.augment#aug_transforms\" target=\"_blank\" rel=\"noreferrer noopener\">Show in docs</a></p>\n"
            ],
            "text/plain": [
              "<IPython.core.display.HTML object>"
            ]
          },
          "metadata": {
            "tags": []
          }
        }
      ]
    },
    {
      "cell_type": "code",
      "metadata": {
        "id": "PYWGhD-ldTdl"
      },
      "source": [
        "houses = houses.new(\n",
        "    item_tfms=RandomResizedCrop(224, min_scale=0.5),\n",
        "    batch_tfms=aug_transforms())\n",
        "dls = houses.dataloaders(path)\n",
        "#dls.valid.show_batch(max_n=2, nrows=1)"
      ],
      "execution_count": 29,
      "outputs": []
    },
    {
      "cell_type": "code",
      "metadata": {
        "id": "O-7CQtZud-j1",
        "outputId": "a9afee5b-9a98-4af8-9516-1e39973f9b9a",
        "colab": {
          "base_uri": "https://localhost:8080/",
          "height": 267
        }
      },
      "source": [
        "learn = cnn_learner(dls, resnet18, metrics=error_rate)\n",
        "learn.fine_tune(5)"
      ],
      "execution_count": 30,
      "outputs": [
        {
          "output_type": "display_data",
          "data": {
            "text/html": [
              "<table border=\"1\" class=\"dataframe\">\n",
              "  <thead>\n",
              "    <tr style=\"text-align: left;\">\n",
              "      <th>epoch</th>\n",
              "      <th>train_loss</th>\n",
              "      <th>valid_loss</th>\n",
              "      <th>error_rate</th>\n",
              "      <th>time</th>\n",
              "    </tr>\n",
              "  </thead>\n",
              "  <tbody>\n",
              "    <tr>\n",
              "      <td>0</td>\n",
              "      <td>1.800151</td>\n",
              "      <td>0.949905</td>\n",
              "      <td>0.388889</td>\n",
              "      <td>00:03</td>\n",
              "    </tr>\n",
              "  </tbody>\n",
              "</table>"
            ],
            "text/plain": [
              "<IPython.core.display.HTML object>"
            ]
          },
          "metadata": {
            "tags": []
          }
        },
        {
          "output_type": "display_data",
          "data": {
            "text/html": [
              "<table border=\"1\" class=\"dataframe\">\n",
              "  <thead>\n",
              "    <tr style=\"text-align: left;\">\n",
              "      <th>epoch</th>\n",
              "      <th>train_loss</th>\n",
              "      <th>valid_loss</th>\n",
              "      <th>error_rate</th>\n",
              "      <th>time</th>\n",
              "    </tr>\n",
              "  </thead>\n",
              "  <tbody>\n",
              "    <tr>\n",
              "      <td>0</td>\n",
              "      <td>1.027020</td>\n",
              "      <td>0.723376</td>\n",
              "      <td>0.322222</td>\n",
              "      <td>00:03</td>\n",
              "    </tr>\n",
              "    <tr>\n",
              "      <td>1</td>\n",
              "      <td>0.838442</td>\n",
              "      <td>0.619022</td>\n",
              "      <td>0.255556</td>\n",
              "      <td>00:03</td>\n",
              "    </tr>\n",
              "    <tr>\n",
              "      <td>2</td>\n",
              "      <td>0.747941</td>\n",
              "      <td>0.559485</td>\n",
              "      <td>0.200000</td>\n",
              "      <td>00:03</td>\n",
              "    </tr>\n",
              "    <tr>\n",
              "      <td>3</td>\n",
              "      <td>0.641449</td>\n",
              "      <td>0.559550</td>\n",
              "      <td>0.177778</td>\n",
              "      <td>00:03</td>\n",
              "    </tr>\n",
              "    <tr>\n",
              "      <td>4</td>\n",
              "      <td>0.584417</td>\n",
              "      <td>0.557286</td>\n",
              "      <td>0.188889</td>\n",
              "      <td>00:04</td>\n",
              "    </tr>\n",
              "  </tbody>\n",
              "</table>"
            ],
            "text/plain": [
              "<IPython.core.display.HTML object>"
            ]
          },
          "metadata": {
            "tags": []
          }
        }
      ]
    },
    {
      "cell_type": "code",
      "metadata": {
        "id": "OacBg0GPeD_z",
        "outputId": "3131a391-337d-471f-b89a-087098bd3f3f",
        "colab": {
          "base_uri": "https://localhost:8080/",
          "height": 311
        }
      },
      "source": [
        "interp = ClassificationInterpretation.from_learner(learn)\n",
        "interp.plot_confusion_matrix()"
      ],
      "execution_count": 32,
      "outputs": [
        {
          "output_type": "display_data",
          "data": {
            "text/html": [
              ""
            ],
            "text/plain": [
              "<IPython.core.display.HTML object>"
            ]
          },
          "metadata": {
            "tags": []
          }
        },
        {
          "output_type": "display_data",
          "data": {
            "image/png": "[encoded data removed]",
            "text/plain": [
              "<Figure size 432x288 with 1 Axes>"
            ]
          },
          "metadata": {
            "tags": [],
            "needs_background": "light"
          }
        }
      ]
    },
    {
      "cell_type": "code",
      "metadata": {
        "id": "t6ejDte7hNnO"
      },
      "source": [
        "#interp.plot_top_losses(50, nrows=10)"
      ],
      "execution_count": 28,
      "outputs": []
    },
    {
      "cell_type": "markdown",
      "metadata": {
        "id": "pOXomalRkDGz"
      },
      "source": [
        "Now we are going to extract the model file and use it to predict based on it "
      ]
    },
    {
      "cell_type": "code",
      "metadata": {
        "id": "S1zt1bJQkYrd",
        "outputId": "1dd00ea2-d6ed-40e6-fdee-6cb62adfe048",
        "colab": {
          "base_uri": "https://localhost:8080/",
          "height": 144
        }
      },
      "source": [
        "doc(learn.export)"
      ],
      "execution_count": 36,
      "outputs": [
        {
          "output_type": "display_data",
          "data": {
            "text/html": [
              "<h4 id=\"Learner.export\" class=\"doc_header\"><code>Learner.export</code><a href=\"https://github.com/fastai/fastai/tree/master/fastai/learner.py#L530\" class=\"source_link\" style=\"float:right\">[source]</a></h4><blockquote><p><code>Learner.export</code>(<strong><code>fname</code></strong>=<em><code>'export.pkl'</code></em>, <strong><code>pickle_protocol</code></strong>=<em><code>2</code></em>)</p>\n",
              "</blockquote>\n",
              "<p>Export the content of <code>self</code> without the items and the optimizer state for inference</p>\n",
              "<p><a href=\"https://docs.fast.ai/learner#Learner.export\" target=\"_blank\" rel=\"noreferrer noopener\">Show in docs</a></p>\n"
            ],
            "text/plain": [
              "<IPython.core.display.HTML object>"
            ]
          },
          "metadata": {
            "tags": []
          }
        }
      ]
    },
    {
      "cell_type": "code",
      "metadata": {
        "id": "oFDfHBzWlIca"
      },
      "source": [
        "learn.export(fname='location_classification_model.pkl')"
      ],
      "execution_count": 37,
      "outputs": []
    },
    {
      "cell_type": "code",
      "metadata": {
        "id": "EsgWZnAXlhUP",
        "outputId": "9605feb8-b35f-40b0-e8bb-47eda7a12e1f",
        "colab": {
          "base_uri": "https://localhost:8080/"
        }
      },
      "source": [
        "path = Path()\n",
        "path.ls(file_exts='.pkl')"
      ],
      "execution_count": 38,
      "outputs": [
        {
          "output_type": "execute_result",
          "data": {
            "text/plain": [
              "(#1) [Path('location_classification_model.pkl')]"
            ]
          },
          "metadata": {
            "tags": []
          },
          "execution_count": 38
        }
      ]
    },
    {
      "cell_type": "code",
      "metadata": {
        "id": "zPA6Ss9jmFgP"
      },
      "source": [
        "learn_inf = load_learner('location_classification_model.pkl')"
      ],
      "execution_count": 40,
      "outputs": []
    },
    {
      "cell_type": "code",
      "metadata": {
        "id": "PaDnv-_smf5t",
        "outputId": "78364cab-503e-4a44-de20-70c965e6d24b",
        "colab": {
          "base_uri": "https://localhost:8080/",
          "height": 34
        }
      },
      "source": [
        "learn_inf.predict('/content/Property-dda9000000000146000155e2a18a-21408221.jpg')"
      ],
      "execution_count": 41,
      "outputs": [
        {
          "output_type": "display_data",
          "data": {
            "text/html": [
              ""
            ],
            "text/plain": [
              "<IPython.core.display.HTML object>"
            ]
          },
          "metadata": {
            "tags": []
          }
        },
        {
          "output_type": "execute_result",
          "data": {
            "text/plain": [
              "('canada', TensorImage(0), TensorImage([0.6761, 0.3189, 0.0051]))"
            ]
          },
          "metadata": {
            "tags": []
          },
          "execution_count": 41
        }
      ]
    }
  ]
}